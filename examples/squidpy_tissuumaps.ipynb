{
 "cells": [
  {
   "cell_type": "code",
   "execution_count": 1,
   "id": "5becfb71",
   "metadata": {},
   "outputs": [
    {
     "name": "stderr",
     "output_type": "stream",
     "text": [
      "INFO:root: * TissUUmaps version: 3.0.8.4\n"
     ]
    }
   ],
   "source": [
    "import squidpy as sq\n",
    "\n",
    "\n",
    "from spatial_analysis_toolkit.view import tissuumaps_notebook_viewer"
   ]
  },
  {
   "cell_type": "code",
   "execution_count": 2,
   "id": "945fc57c",
   "metadata": {},
   "outputs": [],
   "source": [
    "# load the pre-processed dataset\n",
    "img = sq.datasets.visium_fluo_image_crop()\n",
    "adata = sq.datasets.visium_fluo_adata_crop()"
   ]
  },
  {
   "cell_type": "code",
   "execution_count": 3,
   "id": "209168ad",
   "metadata": {},
   "outputs": [
    {
     "name": "stderr",
     "output_type": "stream",
     "text": [
      "INFO:pyvips:VIPS: residual reducev by 0.5\n",
      "INFO:pyvips:VIPS: reducev: 13 point mask\n",
      "INFO:pyvips:VIPS: reducev: using vector path\n",
      "INFO:pyvips:VIPS: residual reduceh by 0.5\n",
      "INFO:pyvips:VIPS: reduceh: 13 point mask\n"
     ]
    },
    {
     "name": "stdout",
     "output_type": "stream",
     "text": [
      "Creating project file /Users/kyamauch/Documents/spatial-analysis-toolkit/examples/_project.tmap\n",
      "Loading url:  http://localhost:7000/_project.tmap?path=Users/kyamauch/Documents/spatial-analysis-toolkit/examples\n"
     ]
    },
    {
     "data": {
      "text/html": [
       "<iframe src=\"http://localhost:7000/_project.tmap?path=Users/kyamauch/Documents/spatial-analysis-toolkit/examples\" style=\"width: 100%; height: 700px; border: none\" id=\"tissUUmapsViewer_98e11d6eb7\" allowfullscreen></iframe>"
      ],
      "text/plain": [
       "<IPython.core.display.HTML object>"
      ]
     },
     "metadata": {},
     "output_type": "display_data"
    }
   ],
   "source": [
    "tissuumaps_notebook_viewer(adata=adata, image_container=img, port=7000)"
   ]
  },
  {
   "cell_type": "code",
   "execution_count": null,
   "id": "60bdfc33",
   "metadata": {},
   "outputs": [],
   "source": []
  }
 ],
 "metadata": {
  "kernelspec": {
   "display_name": "Python 3 (ipykernel)",
   "language": "python",
   "name": "python3"
  },
  "language_info": {
   "codemirror_mode": {
    "name": "ipython",
    "version": 3
   },
   "file_extension": ".py",
   "mimetype": "text/x-python",
   "name": "python",
   "nbconvert_exporter": "python",
   "pygments_lexer": "ipython3",
   "version": "3.8.13"
  }
 },
 "nbformat": 4,
 "nbformat_minor": 5
}
