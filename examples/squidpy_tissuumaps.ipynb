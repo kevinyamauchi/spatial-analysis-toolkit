{
 "cells": [
  {
   "cell_type": "code",
   "execution_count": 57,
   "id": "5becfb71",
   "metadata": {},
   "outputs": [],
   "source": [
    "import anndata\n",
    "import numpy as np\n",
    "from skimage.io import imsave\n",
    "\n",
    "import scanpy as sc\n",
    "import anndata as ad\n",
    "import squidpy as sq\n",
    "\n",
    "import pandas as pd\n",
    "\n",
    "import tissuumaps.jupyter as tmap\n",
    "\n",
    "from spatial_analysis_toolkit.view import tissuumaps_notebook_viewer"
   ]
  },
  {
   "cell_type": "code",
   "execution_count": 2,
   "id": "945fc57c",
   "metadata": {},
   "outputs": [
    {
     "name": "stderr",
     "output_type": "stream",
     "text": [
      "100%|████████████████████████████████████████| 303M/303M [00:05<00:00, 59.2MB/s]\n",
      "100%|██████████████████████████████████████| 65.5M/65.5M [00:01<00:00, 52.5MB/s]\n"
     ]
    }
   ],
   "source": [
    "# load the pre-processed dataset\n",
    "img = sq.datasets.visium_fluo_image_crop()\n",
    "adata = sq.datasets.visium_fluo_adata_crop()"
   ]
  },
  {
   "cell_type": "code",
   "execution_count": 39,
   "id": "09e2841a",
   "metadata": {},
   "outputs": [],
   "source": [
    "# def write_image_container(file_name: str, image_container):\n",
    "#     imsave(\n",
    "#         file_name,\n",
    "#         np.squeeze(img.data.to_array())\n",
    "#     )"
   ]
  },
  {
   "cell_type": "code",
   "execution_count": 49,
   "id": "cb41a6b7",
   "metadata": {},
   "outputs": [],
   "source": [
    "# def write_anndata_to_tissuumaps(file_name: str, adata: anndata.AnnData):\n",
    "    \n",
    "#     obs = adata.obs\n",
    "#     obs[\"umap_0\"] = adata.obsm[\"X_umap\"][:, 0]\n",
    "#     obs[\"umap_1\"] = adata.obsm[\"X_umap\"][:, 1]\n",
    "#     obs[\"x\"] = adata.obsm[\"spatial\"][:, 0]\n",
    "#     obs[\"y\"] = adata.obsm[\"spatial\"][:, 1]\n",
    "    \n",
    "#     obs.to_csv(file_name)"
   ]
  },
  {
   "cell_type": "code",
   "execution_count": 51,
   "id": "bdb8121d",
   "metadata": {},
   "outputs": [],
   "source": [
    "# # write image\n",
    "# image_path = \"test.tif\"\n",
    "# write_image_container(image_path, img)\n",
    "\n",
    "# # write points\n",
    "# csv_path = \"test.csv\"\n",
    "# write_anndata_to_tissuumaps(\"test.csv\", adata)"
   ]
  },
  {
   "cell_type": "code",
   "execution_count": 56,
   "id": "8706e0e7",
   "metadata": {},
   "outputs": [
    {
     "name": "stdout",
     "output_type": "stream",
     "text": [
      "Creating project file /Users/kyamauch/Documents/spatial-analysis-toolkit/examples/_project.tmap\n",
      "Loading url:  http://localhost:5101/_project.tmap?path=Users/kyamauch/Documents/spatial-analysis-toolkit/examples\n"
     ]
    },
    {
     "data": {
      "text/html": [
       "<iframe src=\"http://localhost:5101/_project.tmap?path=Users/kyamauch/Documents/spatial-analysis-toolkit/examples\" style=\"width: 100%; height: 700px; border: none\" id=\"tissUUmapsViewer_66fc4ab2b7\" allowfullscreen></iframe>"
      ],
      "text/plain": [
       "<IPython.core.display.HTML object>"
      ]
     },
     "metadata": {},
     "output_type": "display_data"
    },
    {
     "data": {
      "text/plain": [
       "<tissuumaps.jupyter.TissUUmapsViewer at 0x7f97c4e69430>"
      ]
     },
     "execution_count": 56,
     "metadata": {},
     "output_type": "execute_result"
    }
   ],
   "source": [
    "# tmap.loaddata(\n",
    "#     images=[image_path], \n",
    "#     csvFiles=[csv_path], \n",
    "#     xSelector=\"x\", ySelector=\"y\",\n",
    "#     colorSelector=\"leiden\",\n",
    "#     scaleFactor=20, port=5101,\n",
    "#     plugins=[\"Feature_Space\"]\n",
    "# )"
   ]
  },
  {
   "cell_type": "code",
   "execution_count": 59,
   "id": "209168ad",
   "metadata": {},
   "outputs": [
    {
     "name": "stdout",
     "output_type": "stream",
     "text": [
      "Creating project file /Users/kyamauch/Documents/spatial-analysis-toolkit/examples/_project.tmap\n",
      "Loading url:  http://localhost:5101/_project.tmap?path=Users/kyamauch/Documents/spatial-analysis-toolkit/examples\n"
     ]
    },
    {
     "data": {
      "text/html": [
       "<iframe src=\"http://localhost:5101/_project.tmap?path=Users/kyamauch/Documents/spatial-analysis-toolkit/examples\" style=\"width: 100%; height: 700px; border: none\" id=\"tissUUmapsViewer_af8fd96ab7\" allowfullscreen></iframe>"
      ],
      "text/plain": [
       "<IPython.core.display.HTML object>"
      ]
     },
     "metadata": {},
     "output_type": "display_data"
    }
   ],
   "source": [
    "tissuumaps_notebook_viewer(adata=adata, image_container=img)"
   ]
  },
  {
   "cell_type": "code",
   "execution_count": null,
   "id": "60bdfc33",
   "metadata": {},
   "outputs": [],
   "source": []
  }
 ],
 "metadata": {
  "kernelspec": {
   "display_name": "Python 3",
   "language": "python",
   "name": "python3"
  },
  "language_info": {
   "codemirror_mode": {
    "name": "ipython",
    "version": 3
   },
   "file_extension": ".py",
   "mimetype": "text/x-python",
   "name": "python",
   "nbconvert_exporter": "python",
   "pygments_lexer": "ipython3",
   "version": "3.8.5"
  }
 },
 "nbformat": 4,
 "nbformat_minor": 5
}
